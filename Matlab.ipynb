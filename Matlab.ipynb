{
    "cells": [
        {
            "cell_type": "code",
            "execution_count": 8,
            "source": [
                "import matlab.engine\n",
                "import numpy as np\n",
                "from numpy import array, arange\n",
                "from matlab import double as double_m\n",
                "\n",
                "# matlab 명령 시작\n",
                "eng = matlab.engine.start_matlab()\n",
                "\n",
                "#Python 과 동기된 GUI 열기 -> 키면 시간 더 오래걸리는 대신, 워닝 없어짐 \n",
                "eng.desktop(nargout=0)\n",
                "\n",
                "# MATLAB에 명령보내기 \n",
                "eng.workspace['x'] = 3\n",
                "a = eng.eval(\"x+3;\")\n",
                "\n",
                "eng.eval(\"y = 5;\", nargout=0)\n",
                "print(eng.workspace['y'])\n",
                "\n",
                "#MATLAB에 행렬 numpy 저장 \n",
                "x_matlab = eng.linspace(0, 1000)\n",
                "x_py = array(x_matlab)\n",
                "\n",
                "eng.eval('x = linspace(0, 1000)', nargout=0)\n",
                "x_py = array(eng.workspace['x'])\n",
                "\n",
                "#MATLAB에 경로추가 \n",
                "eng.addpath('/home/kkk/matlab_utility', nargout=0)\n",
                "\n",
                "#MATLAB의 함수실행 \n",
                "x_randn_matlab = eng.randn(4,4)\n",
                "x_randn_matlab_T = eng.transpose(x_randn_matlab)\n",
                "\n",
                "#NUMPT data MATLAB에서 사용하기 \n",
                "y = arange(16).reshape(4, 4)\n",
                "y_matlab = eng.double(double_m(y.tolist()))\n",
                "eng.workspace['y'] = y_matlab\n",
                "\n",
                "#MATLAB 종료 \n",
                "eng.quit()\n"
            ],
            "outputs": [
                {
                    "output_type": "stream",
                    "name": "stdout",
                    "text": [
                        "5.0\n"
                    ]
                },
                {
                    "output_type": "stream",
                    "name": "stderr",
                    "text": [
                        "\u001a\u001a \u001a\u001a \u001a \u001a\u001a\u001a \u001a\u001a\u001a: .*\n",
                        "\u001a\u001a\u001a \u001a\u001a \u001a\u001a\u001a\u001a \u001a\u001a\u001a double\u001a \u001a\u001a\u001a\u001a\u001a \u001a\u001a\u001a \u001a \u001a\u001a\u001a\u001a.\n",
                        "\n",
                        "\u001a\u001a \u001a\u001a: linspace (line 44)\n",
                        "        y = d1 + (0:n1).*(d2 - d1)./n1;\n",
                        "\n"
                    ]
                },
                {
                    "output_type": "error",
                    "ename": "MatlabExecutionError",
                    "evalue": "\n  File /Applications/MATLAB_R2019b.app/toolbox/matlab/elmat/linspace.m, line 44, in linspace\n정수는 같은 클래스의 정수나 double형 스칼라와만 결합될 수 있습니다.\n",
                    "traceback": [
                        "\u001b[0;31m---------------------------------------------------------------------------\u001b[0m",
                        "\u001b[0;31mMatlabExecutionError\u001b[0m                      Traceback (most recent call last)",
                        "\u001b[0;32m/var/folders/hh/pjf62hl52_n24csnwrmdgdgc0000gn/T/ipykernel_58434/3068671296.py\u001b[0m in \u001b[0;36m<module>\u001b[0;34m\u001b[0m\n\u001b[1;32m     18\u001b[0m \u001b[0;34m\u001b[0m\u001b[0m\n\u001b[1;32m     19\u001b[0m \u001b[0;31m#MATLAB에 행렬 numpy 저장\u001b[0m\u001b[0;34m\u001b[0m\u001b[0;34m\u001b[0m\u001b[0m\n\u001b[0;32m---> 20\u001b[0;31m \u001b[0mx_matlab\u001b[0m \u001b[0;34m=\u001b[0m \u001b[0meng\u001b[0m\u001b[0;34m.\u001b[0m\u001b[0mlinspace\u001b[0m\u001b[0;34m(\u001b[0m\u001b[0;36m0\u001b[0m\u001b[0;34m,\u001b[0m \u001b[0;36m1000\u001b[0m\u001b[0;34m)\u001b[0m\u001b[0;34m\u001b[0m\u001b[0m\n\u001b[0m\u001b[1;32m     21\u001b[0m \u001b[0mx_py\u001b[0m \u001b[0;34m=\u001b[0m \u001b[0marray\u001b[0m\u001b[0;34m(\u001b[0m\u001b[0mx_matlab\u001b[0m\u001b[0;34m)\u001b[0m\u001b[0;34m\u001b[0m\u001b[0m\n\u001b[1;32m     22\u001b[0m \u001b[0;34m\u001b[0m\u001b[0m\n",
                        "\u001b[0;32m~/.pyenv/versions/anaconda3-2020.02/envs/qiskit/lib/python3.7/site-packages/matlab/engine/matlabengine.py\u001b[0m in \u001b[0;36m__call__\u001b[0;34m(self, *args, **kwargs)\u001b[0m\n\u001b[1;32m     69\u001b[0m         \u001b[0;32melse\u001b[0m\u001b[0;34m:\u001b[0m\u001b[0;34m\u001b[0m\u001b[0m\n\u001b[1;32m     70\u001b[0m             return FutureResult(self._engine(), future, nargs, _stdout,\n\u001b[0;32m---> 71\u001b[0;31m                                 _stderr, feval=True).result()\n\u001b[0m\u001b[1;32m     72\u001b[0m \u001b[0;34m\u001b[0m\u001b[0m\n\u001b[1;32m     73\u001b[0m     \u001b[0;32mdef\u001b[0m \u001b[0m__validate_engine\u001b[0m\u001b[0;34m(\u001b[0m\u001b[0mself\u001b[0m\u001b[0;34m)\u001b[0m\u001b[0;34m:\u001b[0m\u001b[0;34m\u001b[0m\u001b[0m\n",
                        "\u001b[0;32m~/.pyenv/versions/anaconda3-2020.02/envs/qiskit/lib/python3.7/site-packages/matlab/engine/futureresult.py\u001b[0m in \u001b[0;36mresult\u001b[0;34m(self, timeout)\u001b[0m\n\u001b[1;32m     65\u001b[0m                 \u001b[0;32mraise\u001b[0m \u001b[0mTypeError\u001b[0m\u001b[0;34m(\u001b[0m\u001b[0mpythonengine\u001b[0m\u001b[0;34m.\u001b[0m\u001b[0mgetMessage\u001b[0m\u001b[0;34m(\u001b[0m\u001b[0;34m'TimeoutCannotBeNegative'\u001b[0m\u001b[0;34m)\u001b[0m\u001b[0;34m)\u001b[0m\u001b[0;34m\u001b[0m\u001b[0m\n\u001b[1;32m     66\u001b[0m \u001b[0;34m\u001b[0m\u001b[0m\n\u001b[0;32m---> 67\u001b[0;31m         \u001b[0;32mreturn\u001b[0m \u001b[0mself\u001b[0m\u001b[0;34m.\u001b[0m\u001b[0m__future\u001b[0m\u001b[0;34m.\u001b[0m\u001b[0mresult\u001b[0m\u001b[0;34m(\u001b[0m\u001b[0mtimeout\u001b[0m\u001b[0;34m)\u001b[0m\u001b[0;34m\u001b[0m\u001b[0m\n\u001b[0m\u001b[1;32m     68\u001b[0m \u001b[0;34m\u001b[0m\u001b[0m\n\u001b[1;32m     69\u001b[0m     \u001b[0;32mdef\u001b[0m \u001b[0mcancel\u001b[0m\u001b[0;34m(\u001b[0m\u001b[0mself\u001b[0m\u001b[0;34m)\u001b[0m\u001b[0;34m:\u001b[0m\u001b[0;34m\u001b[0m\u001b[0m\n",
                        "\u001b[0;32m~/.pyenv/versions/anaconda3-2020.02/envs/qiskit/lib/python3.7/site-packages/matlab/engine/fevalfuture.py\u001b[0m in \u001b[0;36mresult\u001b[0;34m(self, timeout)\u001b[0m\n\u001b[1;32m     80\u001b[0m                 \u001b[0;32mraise\u001b[0m \u001b[0mTimeoutError\u001b[0m\u001b[0;34m(\u001b[0m\u001b[0mpythonengine\u001b[0m\u001b[0;34m.\u001b[0m\u001b[0mgetMessage\u001b[0m\u001b[0;34m(\u001b[0m\u001b[0;34m'MatlabFunctionTimeout'\u001b[0m\u001b[0;34m)\u001b[0m\u001b[0;34m)\u001b[0m\u001b[0;34m\u001b[0m\u001b[0m\n\u001b[1;32m     81\u001b[0m \u001b[0;34m\u001b[0m\u001b[0m\n\u001b[0;32m---> 82\u001b[0;31m             \u001b[0mself\u001b[0m\u001b[0;34m.\u001b[0m\u001b[0m_result\u001b[0m \u001b[0;34m=\u001b[0m \u001b[0mpythonengine\u001b[0m\u001b[0;34m.\u001b[0m\u001b[0mgetFEvalResult\u001b[0m\u001b[0;34m(\u001b[0m\u001b[0mself\u001b[0m\u001b[0;34m.\u001b[0m\u001b[0m_future\u001b[0m\u001b[0;34m,\u001b[0m\u001b[0mself\u001b[0m\u001b[0;34m.\u001b[0m\u001b[0m_nargout\u001b[0m\u001b[0;34m,\u001b[0m \u001b[0;32mNone\u001b[0m\u001b[0;34m,\u001b[0m \u001b[0mout\u001b[0m\u001b[0;34m=\u001b[0m\u001b[0mself\u001b[0m\u001b[0;34m.\u001b[0m\u001b[0m_out\u001b[0m\u001b[0;34m,\u001b[0m \u001b[0merr\u001b[0m\u001b[0;34m=\u001b[0m\u001b[0mself\u001b[0m\u001b[0;34m.\u001b[0m\u001b[0m_err\u001b[0m\u001b[0;34m)\u001b[0m\u001b[0;34m\u001b[0m\u001b[0m\n\u001b[0m\u001b[1;32m     83\u001b[0m             \u001b[0mself\u001b[0m\u001b[0;34m.\u001b[0m\u001b[0m_retrieved\u001b[0m \u001b[0;34m=\u001b[0m \u001b[0;32mTrue\u001b[0m\u001b[0;34m\u001b[0m\u001b[0m\n\u001b[1;32m     84\u001b[0m             \u001b[0;32mreturn\u001b[0m \u001b[0mself\u001b[0m\u001b[0;34m.\u001b[0m\u001b[0m_result\u001b[0m\u001b[0;34m\u001b[0m\u001b[0m\n",
                        "\u001b[0;31mMatlabExecutionError\u001b[0m: \n  File /Applications/MATLAB_R2019b.app/toolbox/matlab/elmat/linspace.m, line 44, in linspace\n정수는 같은 클래스의 정수나 double형 스칼라와만 결합될 수 있습니다.\n"
                    ]
                }
            ],
            "metadata": {}
        }
    ],
    "metadata": {
        "orig_nbformat": 4,
        "language_info": {
            "name": "python",
            "version": "3.7.0",
            "mimetype": "text/x-python",
            "codemirror_mode": {
                "name": "ipython",
                "version": 3
            },
            "pygments_lexer": "ipython3",
            "nbconvert_exporter": "python",
            "file_extension": ".py"
        },
        "kernelspec": {
            "name": "python3",
            "display_name": "Python 3.7.0 64-bit ('qiskit': conda)"
        },
        "interpreter": {
            "hash": "82825baba28b5a146e70c5851459733869a5b3d64f9aba627b90be2edd986815"
        }
    },
    "nbformat": 4,
    "nbformat_minor": 2
}