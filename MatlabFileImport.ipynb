{
 "cells": [
  {
   "cell_type": "code",
   "execution_count": 2,
   "source": [
    "# 파일 시작 전에 import 해와야 할 것 들을 전부 받아옵니다 \n",
    "import scipy.io "
   ],
   "outputs": [],
   "metadata": {}
  },
  {
   "cell_type": "code",
   "execution_count": null,
   "source": [
    "matlab_file_name = 'vqc_3.mlx'\n"
   ],
   "outputs": [],
   "metadata": {}
  }
 ],
 "metadata": {
  "orig_nbformat": 4,
  "language_info": {
   "name": "python",
   "version": "3.7.0",
   "mimetype": "text/x-python",
   "codemirror_mode": {
    "name": "ipython",
    "version": 3
   },
   "pygments_lexer": "ipython3",
   "nbconvert_exporter": "python",
   "file_extension": ".py"
  },
  "kernelspec": {
   "name": "python3",
   "display_name": "Python 3.9.1 64-bit ('qiskit': conda)"
  },
  "interpreter": {
   "hash": "82825baba28b5a146e70c5851459733869a5b3d64f9aba627b90be2edd986815"
  }
 },
 "nbformat": 4,
 "nbformat_minor": 2
}